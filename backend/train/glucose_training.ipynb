{
 "cells": [
  {
   "cell_type": "code",
   "execution_count": 1,
   "id": "c6fb02c5",
   "metadata": {},
   "outputs": [],
   "source": [
    "import pandas as pd\n",
    "import numpy as np\n",
    "import psycopg2\n",
    "from sklearn.ensemble import IsolationForest\n",
    "import joblib"
   ]
  },
  {
   "cell_type": "code",
   "execution_count": 2,
   "id": "13e74219",
   "metadata": {},
   "outputs": [],
   "source": [
    "# Connectting to our PostgresSQL\n",
    "\n",
    "conn = psycopg2.connect(\n",
    "    host=\"localhost\",\n",
    "    database=\"ehr_data\",\n",
    "    user=\"postgres\",\n",
    "    password=\"password\"\n",
    ")"
   ]
  },
  {
   "cell_type": "code",
   "execution_count": 3,
   "id": "fd8280c5",
   "metadata": {},
   "outputs": [
    {
     "name": "stdout",
     "output_type": "stream",
     "text": [
      "✅ Loaded 2810 glucose-related observation records.\n",
      "🔍 Sample values:\n",
      "                             patient_id  value   unit      effective_date\n",
      "0  1871d3bf-072c-aabf-d872-d5355a5196be  84.02  mg/dL 1981-09-08 16:03:42\n",
      "1  1871d3bf-072c-aabf-d872-d5355a5196be  97.87  mg/dL 1981-09-26 17:14:53\n",
      "2  1871d3bf-072c-aabf-d872-d5355a5196be  93.67  mg/dL 1982-03-25 16:14:53\n",
      "3  1871d3bf-072c-aabf-d872-d5355a5196be  93.67  mg/dL 1982-03-26 04:23:24\n",
      "4  1871d3bf-072c-aabf-d872-d5355a5196be  64.20  mg/dL 1982-09-22 18:02:10\n"
     ]
    },
    {
     "name": "stderr",
     "output_type": "stream",
     "text": [
      "C:\\Users\\kunal\\AppData\\Local\\Temp\\ipykernel_19384\\3894802549.py:3: UserWarning: pandas only supports SQLAlchemy connectable (engine/connection) or database string URI or sqlite3 DBAPI2 connection. Other DBAPI2 objects are not tested. Please consider using SQLAlchemy.\n",
      "  df = pd.read_sql_query(\"\"\"\n"
     ]
    }
   ],
   "source": [
    "# Load all observations with 'glucose' in description\n",
    "\n",
    "df = pd.read_sql_query(\"\"\"\n",
    "    SELECT patient_id, value::float, unit, effective_date\n",
    "    FROM observations\n",
    "    WHERE LOWER(description) LIKE '%glucose%' AND value ~ '^[0-9.]+$'\n",
    "    ORDER BY effective_date\n",
    "\"\"\", conn)\n",
    "\n",
    "conn.close()\n",
    "\n",
    "\n",
    "print(f\"✅ Loaded {len(df)} glucose-related observation records.\")\n",
    "print(\"🔍 Sample values:\")\n",
    "print(df.head())"
   ]
  },
  {
   "cell_type": "code",
   "execution_count": 4,
   "id": "7f5b08fa",
   "metadata": {},
   "outputs": [],
   "source": [
    "# Drop nulls and reset index\n",
    "df.dropna(subset=[\"value\"], inplace=True)\n",
    "df.reset_index(drop=True, inplace=True)"
   ]
  },
  {
   "cell_type": "code",
   "execution_count": 5,
   "id": "2a79c40f",
   "metadata": {},
   "outputs": [
    {
     "name": "stdout",
     "output_type": "stream",
     "text": [
      "⚠️ Detected 141 anomalies out of 2810 values.\n",
      "✅ Model trained and saved at train/models/glucose_model.pkl\n"
     ]
    }
   ],
   "source": [
    "# Feature engineering\n",
    "X = df[[\"value\"]]\n",
    "\n",
    "# Train an Isolation Forest\n",
    "model = IsolationForest(n_estimators=100, contamination=0.05, random_state=42)\n",
    "model.fit(X)\n",
    "\n",
    "# Predict to show anomaly rate\n",
    "preds = model.predict(X)\n",
    "n_anomalies = (preds == -1).sum()\n",
    "print(f\"⚠️ Detected {n_anomalies} anomalies out of {len(preds)} values.\")\n",
    "\n",
    "# Save model\n",
    "joblib.dump(model, \"models/glucose_model.pkl\")\n",
    "print(\"✅ Model trained and saved at train/models/glucose_model.pkl\")"
   ]
  }
 ],
 "metadata": {
  "kernelspec": {
   "display_name": "Python 3",
   "language": "python",
   "name": "python3"
  },
  "language_info": {
   "codemirror_mode": {
    "name": "ipython",
    "version": 3
   },
   "file_extension": ".py",
   "mimetype": "text/x-python",
   "name": "python",
   "nbconvert_exporter": "python",
   "pygments_lexer": "ipython3",
   "version": "3.12.2"
  }
 },
 "nbformat": 4,
 "nbformat_minor": 5
}
